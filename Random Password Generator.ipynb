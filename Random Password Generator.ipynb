{
 "cells": [
  {
   "cell_type": "code",
   "execution_count": 1,
   "id": "98d28a77",
   "metadata": {},
   "outputs": [],
   "source": [
    "import random\n"
   ]
  },
  {
   "cell_type": "code",
   "execution_count": 2,
   "id": "1aeb23a6",
   "metadata": {},
   "outputs": [],
   "source": [
    "lower=\"abcdefghijklmnopqrstuvwxyz\"\n",
    "upper=\"ABCDEFGHIJKLMNOPQRSTUVWXYZ\"\n",
    "numbers=\"0123456789\"\n",
    "symbols=\"@#!&$()?%+-_=[]<>/^|\""
   ]
  },
  {
   "cell_type": "code",
   "execution_count": 5,
   "id": "4a81daf0",
   "metadata": {},
   "outputs": [
    {
     "name": "stdout",
     "output_type": "stream",
     "text": [
      "enter the length of Password\n",
      "78\n",
      "aU7Bh|JI%5_p0r<CtMxVADn2OQiG=TSH1o4]L!9cmvyfbd&6kq^guX8PRFZzs/3we(?j@>EYN[$)l-\n"
     ]
    }
   ],
   "source": [
    "all=lower+upper+numbers+symbols\n",
    "length=int(input('enter the length of Password\\n'))\n",
    "pwd=\"\".join(random.sample(all,length))\n",
    "print(pwd)"
   ]
  },
  {
   "cell_type": "code",
   "execution_count": null,
   "id": "6e2f7ad2",
   "metadata": {},
   "outputs": [],
   "source": []
  }
 ],
 "metadata": {
  "kernelspec": {
   "display_name": "Python 3",
   "language": "python",
   "name": "python3"
  },
  "language_info": {
   "codemirror_mode": {
    "name": "ipython",
    "version": 3
   },
   "file_extension": ".py",
   "mimetype": "text/x-python",
   "name": "python",
   "nbconvert_exporter": "python",
   "pygments_lexer": "ipython3",
   "version": "3.8.8"
  }
 },
 "nbformat": 4,
 "nbformat_minor": 5
}
